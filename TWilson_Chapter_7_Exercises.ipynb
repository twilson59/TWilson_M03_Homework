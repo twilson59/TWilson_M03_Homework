{
 "cells": [
  {
   "cell_type": "code",
   "execution_count": 1,
   "id": "eb1eec75-d122-45d9-9f49-c12a20599717",
   "metadata": {},
   "outputs": [
    {
     "name": "stdout",
     "output_type": "stream",
     "text": [
      "7.4 version ['mozzarella', 'cinderella', 'salmonealla']\n",
      "7.5 version ['mozzarella', 'Cinderella', 'salmonealla']\n",
      "7.6 version ['MOZZARELLA', 'Cinderella', 'salmonealla']\n",
      "7.7 version ['MOZZARELLA', 'Cinderella']\n"
     ]
    }
   ],
   "source": [
    "#7.4\n",
    "things = [\"mozzarella\", \"cinderella\", \"salmonealla\"]\n",
    "print(f\"7.4 version {things}\")\n",
    "\n",
    "#7.5\n",
    "things[1] = things[1].capitalize()\n",
    "print(f\"7.5 version {things}\")\n",
    "\n",
    "#7.6\n",
    "things[0] = things[0].upper()\n",
    "print(f\"7.6 version {things}\")\n",
    "\n",
    "#7.7\n",
    "things.pop()\n",
    "print(f\"7.7 version {things}\")"
   ]
  },
  {
   "cell_type": "code",
   "execution_count": null,
   "id": "84ce7301-5e82-469d-8c02-ba1251973a2e",
   "metadata": {},
   "outputs": [],
   "source": []
  },
  {
   "cell_type": "code",
   "execution_count": null,
   "id": "413afa63-80b8-483d-8b6d-3df698703530",
   "metadata": {},
   "outputs": [],
   "source": []
  }
 ],
 "metadata": {
  "kernelspec": {
   "display_name": "Python 3 (ipykernel)",
   "language": "python",
   "name": "python3"
  },
  "language_info": {
   "codemirror_mode": {
    "name": "ipython",
    "version": 3
   },
   "file_extension": ".py",
   "mimetype": "text/x-python",
   "name": "python",
   "nbconvert_exporter": "python",
   "pygments_lexer": "ipython3",
   "version": "3.12.4"
  }
 },
 "nbformat": 4,
 "nbformat_minor": 5
}
