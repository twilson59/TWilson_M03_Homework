{
 "cells": [
  {
   "cell_type": "code",
   "execution_count": 3,
   "id": "659eb6e4-be95-4737-8813-522d0e794796",
   "metadata": {},
   "outputs": [
    {
     "name": "stdin",
     "output_type": "stream",
     "text": [
      "Please enter the four digit model year:  2010\n",
      "Please enter the make of the vehicle:  Ford\n",
      "Please enter the model of the vehicle:  Fusion\n",
      "Does the vehicle have 2 or 4 doors?  4\n",
      "Does the vehicle have a sunroof, Y or N?  Y\n"
     ]
    },
    {
     "name": "stdout",
     "output_type": "stream",
     "text": [
      "Vehicle Type: Passenger Car\n",
      "Year: 2010\n",
      "Make: Ford\n",
      "Model: Fusion\n",
      "Doors: 4\n",
      "Roof: Sunroof\n"
     ]
    }
   ],
   "source": [
    "import os\n",
    "\n",
    "class Vehicle:\n",
    "    def __init__(self, type):\n",
    "        self.type = type\n",
    "        \n",
    "    def vehicleInfo(self):\n",
    "        return self.type\n",
    "\n",
    "\n",
    "class Car(Vehicle):\n",
    "    def __init__(self, type, year, make, model, doors, roof):\n",
    "        super().__init__(type)\n",
    "        self.year = year\n",
    "        self.make = make\n",
    "        self.model = model\n",
    "        self.doors = doors\n",
    "        self.roof = roof\n",
    "        \n",
    "    def carInfo(self):\n",
    "        return f\"Vehicle Type: {self.type}\\nYear: {self.year}\\nMake: {self.make}\\nModel: {self.model}\\nDoors: {self.doors}\\nRoof: {self.roof}\"     \n",
    "        \n",
    "        \n",
    "        \n",
    "while True:\n",
    "    userYear = input(\"Please enter the four digit model year: \")\n",
    "    try: \n",
    "        userYear = int(userYear)\n",
    "        if userYear > 2025 or userYear < 1900:\n",
    "            print(\"Year must be between 1900 and 2025\")\n",
    "        else:\n",
    "            break\n",
    "    except ValueError:\n",
    "        print(\"Year must be a numeric value.\")\n",
    "        \n",
    "userMake = input(\"Please enter the make of the vehicle: \")\n",
    "\n",
    "userModel = input(\"Please enter the model of the vehicle: \")\n",
    "\n",
    "while True:\n",
    "    userDoors = input(\"Does the vehicle have 2 or 4 doors? \")\n",
    "    try:\n",
    "        userDoors = int(userDoors)\n",
    "        if userDoors < 2 or userDoors > 4 or userDoors == 3:\n",
    "            print(\"Please enter a 2 or 4.\")\n",
    "        else:\n",
    "            break\n",
    "    except ValueError:\n",
    "        print(\"Please enter a 2 or 4.\")\n",
    "\n",
    "while True:\n",
    "    userRoof = input(\"Does the vehicle have a sunroof, Y or N? \")\n",
    "    userRoof = userRoof.upper()\n",
    "    \n",
    "    if userRoof == \"Y\":\n",
    "        userRoof = \"Sunroof\"\n",
    "        break\n",
    "    \n",
    "    elif userRoof == \"N\":\n",
    "        userRoof = \"Solid Roof\"\n",
    "        break\n",
    "    \n",
    "    else:\n",
    "        print(\"Please enter Y or N.\")\n",
    "        \n",
    "        \n",
    "userCar = Car(\"Passenger Car\", userYear, userMake, userModel, userDoors, userRoof)\n",
    "os.system(\"cls\")\n",
    "print(userCar.carInfo())"
   ]
  },
  {
   "cell_type": "code",
   "execution_count": null,
   "id": "a1f22409-1d21-4b56-9684-8ba645d55d25",
   "metadata": {},
   "outputs": [],
   "source": []
  }
 ],
 "metadata": {
  "kernelspec": {
   "display_name": "Python 3 (ipykernel)",
   "language": "python",
   "name": "python3"
  },
  "language_info": {
   "codemirror_mode": {
    "name": "ipython",
    "version": 3
   },
   "file_extension": ".py",
   "mimetype": "text/x-python",
   "name": "python",
   "nbconvert_exporter": "python",
   "pygments_lexer": "ipython3",
   "version": "3.12.4"
  }
 },
 "nbformat": 4,
 "nbformat_minor": 5
}
